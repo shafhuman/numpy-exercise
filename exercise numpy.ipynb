{
 "cells": [
  {
   "cell_type": "code",
   "execution_count": 1,
   "metadata": {},
   "outputs": [],
   "source": [
    "import numpy as np\n",
    "import matplotlib.pyplot as plt"
   ]
  },
  {
   "cell_type": "code",
   "execution_count": null,
   "metadata": {},
   "outputs": [],
   "source": [
    "# Q1.Try the dot function in numpy on arrays of various sizes. It is good to see how it works."
   ]
  },
  {
   "cell_type": "code",
   "execution_count": 2,
   "metadata": {},
   "outputs": [
    {
     "name": "stdout",
     "output_type": "stream",
     "text": [
      "Answer 1\n",
      "[[11 12]\n",
      " [27 32]]\n"
     ]
    }
   ],
   "source": [
    "a = [[1, 2], [3, 4]]  \n",
    "\n",
    "b = [[5, 8], [3,2]]  \n",
    "\n",
    "c = np.dot(a, b)  \n",
    "\n",
    "print(\"Answer 1\")\n",
    "\n",
    "print(c)"
   ]
  },
  {
   "cell_type": "code",
   "execution_count": null,
   "metadata": {},
   "outputs": [],
   "source": [
    "# Q2. Create a plot of x^2 sin (1/x2) on the interval [−1, 1] using 300 points. Label the axes."
   ]
  },
  {
   "cell_type": "code",
   "execution_count": 16,
   "metadata": {},
   "outputs": [
    {
     "data": {
      "image/png": "[encoded data removed]",
      "text/plain": [
       "<Figure size 432x288 with 1 Axes>"
      ]
     },
     "metadata": {
      "needs_background": "light"
     },
     "output_type": "display_data"
    }
   ],
   "source": [
    "x = np.linspace(-1,1,300)\n",
    "\n",
    "function = (x**2)*np.sin(1/(x**2))\n",
    "\n",
    "plt.plot(x,function)\n",
    "plt.title(r\"f(x) = $x^{2}sin(\\frac{1}{x^{2}})$\")\n",
    "plt.xlabel(\"x\")\n",
    "plt.show()"
   ]
  },
  {
   "cell_type": "code",
   "execution_count": null,
   "metadata": {},
   "outputs": [],
   "source": [
    "# Q3. Create a color plot with contourf of sin (x) sin (y) on the domain [−π, π] × [−π, π].\n"
   ]
  },
  {
   "cell_type": "code",
   "execution_count": 4,
   "metadata": {},
   "outputs": [
    {
     "data": {
      "image/png": "[encoded data removed]",
      "text/plain": [
       "<Figure size 432x288 with 2 Axes>"
      ]
     },
     "metadata": {
      "needs_background": "light"
     },
     "output_type": "display_data"
    }
   ],
   "source": [
    "x = np.linspace(-np.pi, np.pi, 1000)\n",
    "y = np.linspace(-np.pi, np.pi, 1000)\n",
    "# create the coutour grid\n",
    "X, Y = np.meshgrid(x, y)\n",
    "# Define the function\n",
    "Z =np.sin(x)*np.sin(Y)\n",
    "# Plot the contour\n",
    "plt.contourf(X, Y, Z)\n",
    "plt.colorbar()\n",
    "plt.xlabel(\"x\")\n",
    "plt.ylabel(\"y\")\n",
    "plt.show()"
   ]
  },
  {
   "cell_type": "code",
   "execution_count": null,
   "metadata": {},
   "outputs": [],
   "source": [
    "# Q4. Create a function which creates a (n, n) array with (i, j) entry equal to i + j."
   ]
  },
  {
   "cell_type": "code",
   "execution_count": 5,
   "metadata": {},
   "outputs": [
    {
     "name": "stdout",
     "output_type": "stream",
     "text": [
      "[[2 3 4 5]\n",
      " [3 4 5 6]\n",
      " [4 5 6 7]\n",
      " [5 6 7 8]]\n"
     ]
    }
   ],
   "source": [
    "def create_array(n):\n",
    "  # loop twice and intilialize i,j =i+j+2 as indexing in python starts with 0\n",
    "  return np.array([[i+j+2 for j in range(n)] for i in range(n)])\n",
    "print(create_array(4))"
   ]
  },
  {
   "cell_type": "code",
   "execution_count": null,
   "metadata": {},
   "outputs": [],
   "source": [
    "# Q5. Create a random 3×5 array using the np.random.rand() function and compute:\n",
    "# the sum of all the entries, the sum of entries in each row, the sum of entries \n",
    "# in each column (many numpy functions have an optional axis=argument)."
   ]
  },
  {
   "cell_type": "code",
   "execution_count": 6,
   "metadata": {},
   "outputs": [
    {
     "name": "stdout",
     "output_type": "stream",
     "text": [
      "Answer 5\n",
      "[[0.28509305 0.40465287 0.30461872 0.86161461 0.12676965]\n",
      " [0.48964202 0.84542059 0.34102453 0.69986758 0.33533128]\n",
      " [0.08027071 0.86881802 0.3023594  0.80407244 0.59591764]]\n",
      "Answer 5: sum of each row\n",
      "[1.98274891 2.711286   2.6514382 ]\n",
      "Answer 5: sum of each column\n",
      "[0.85500579 2.11889148 0.94800264 2.36555463 1.05801856]\n"
     ]
    }
   ],
   "source": [
    "arr = np.random.rand(3,5)\n",
    "\n",
    "print(\"Answer 5\")\n",
    "\n",
    "print(arr)\n",
    "\n",
    "# sum of each row\n",
    "\n",
    "print(\"Answer 5: sum of each row\")\n",
    "\n",
    "print(np.sum(arr, axis=1))\n",
    "\n",
    "\n",
    "\n",
    "# summ of each COLUMN\n",
    "\n",
    "print(\"Answer 5: sum of each column\")\n",
    "\n",
    "print(np.sum(arr, axis=0))"
   ]
  },
  {
   "cell_type": "code",
   "execution_count": null,
   "metadata": {},
   "outputs": [],
   "source": [
    "# Q6. Flatten a 2d array into a 1d array"
   ]
  },
  {
   "cell_type": "code",
   "execution_count": 7,
   "metadata": {},
   "outputs": [
    {
     "data": {
      "text/plain": [
       "array([[ 0,  1,  2,  3],\n",
       "       [ 4,  5,  6,  7],\n",
       "       [ 8,  9, 10, 11],\n",
       "       [12, 13, 14, 15]])"
      ]
     },
     "execution_count": 7,
     "metadata": {},
     "output_type": "execute_result"
    }
   ],
   "source": [
    "sample_2darray = np.arange(0,16).reshape(4,4)\n",
    "sample_2darray"
   ]
  },
  {
   "cell_type": "code",
   "execution_count": 8,
   "metadata": {},
   "outputs": [
    {
     "name": "stdout",
     "output_type": "stream",
     "text": [
      "Flatted array = \n",
      "[ 0  1  2  3  4  5  6  7  8  9 10 11 12 13 14 15]\n"
     ]
    }
   ],
   "source": [
    "print(\"Flatted array = \")\n",
    "# use flatten method in numpy to flatten the array\n",
    "print(sample_2darray.flatten())"
   ]
  },
  {
   "cell_type": "code",
   "execution_count": null,
   "metadata": {},
   "outputs": [],
   "source": [
    "# Q7. Get the maximum entry in a (n,n) array"
   ]
  },
  {
   "cell_type": "code",
   "execution_count": 9,
   "metadata": {},
   "outputs": [
    {
     "name": "stdout",
     "output_type": "stream",
     "text": [
      "[[0.05132604 0.18942489 0.0435068  0.70492155 0.50575688]\n",
      " [0.72962281 0.47048349 0.15864074 0.88275117 0.61375874]\n",
      " [0.81192084 0.910498   0.43619434 0.62260815 0.32198045]]\n",
      "Answer 7\n",
      "0.9104979982675848\n"
     ]
    }
   ],
   "source": [
    "arr = np.random.rand(3,5)\n",
    "print(arr)\n",
    "\n",
    "print(\"Answer 7\")\n",
    "\n",
    "print(np.max(arr))  #maximumn value in array"
   ]
  },
  {
   "cell_type": "code",
   "execution_count": null,
   "metadata": {},
   "outputs": [],
   "source": [
    "# Q8. Get the row number(s) of a numpy array having elements greater than some value x"
   ]
  },
  {
   "cell_type": "code",
   "execution_count": 10,
   "metadata": {},
   "outputs": [
    {
     "name": "stdout",
     "output_type": "stream",
     "text": [
      "[[ 0  1  2  3]\n",
      " [ 4  5  6  7]\n",
      " [ 8  9 10 11]\n",
      " [12 13 14 15]]\n",
      "Row number of above array having elements greater than x=4 are  [2 3 4]\n"
     ]
    }
   ],
   "source": [
    "x=4\n",
    "sample_2darray = np.arange(0,16).reshape(4,4)\n",
    "print(sample_2darray)\n",
    "print(\"Row number of above array having elements greater than x=4 are \",np.unique(np.where(sample_2darray>4)[0])+1)\n"
   ]
  },
  {
   "cell_type": "code",
   "execution_count": null,
   "metadata": {},
   "outputs": [],
   "source": [
    "# Q9. Create a (8,8) array and fill it with a checkerboard pattern of 0s alternating with 1s"
   ]
  },
  {
   "cell_type": "code",
   "execution_count": 11,
   "metadata": {},
   "outputs": [
    {
     "name": "stdout",
     "output_type": "stream",
     "text": [
      "Answer 9\n",
      "[[0 1 0 1 0 1 0 1]\n",
      " [1 0 1 0 1 0 1 0]\n",
      " [0 1 0 1 0 1 0 1]\n",
      " [1 0 1 0 1 0 1 0]\n",
      " [0 1 0 1 0 1 0 1]\n",
      " [1 0 1 0 1 0 1 0]\n",
      " [0 1 0 1 0 1 0 1]\n",
      " [1 0 1 0 1 0 1 0]]\n"
     ]
    }
   ],
   "source": [
    "a_8_8 = np.zeros((8,8),dtype=int)   # initialize all elements to zero\n",
    "\n",
    "a_8_8[1::2,::2] = 1     # start from 1 index(second row), with step size 2 and set the value to 1, i.e for  second row, fourth row, sixth row eighth row (for column index 0)\n",
    "\n",
    "a_8_8[::2,1::2] = 1    # start from 0 index(first row), with step size 2 and set the value to 1, i.e fist row, third row, fifth row seventh row (for column index 1)\n",
    "\n",
    "print(\"Answer 9\")\n",
    "\n",
    "print(a_8_8)"
   ]
  },
  {
   "cell_type": "code",
   "execution_count": null,
   "metadata": {},
   "outputs": [],
   "source": [
    "# Q10.  How do you delete a given column (for instance column 2) in an array? How about a given row?"
   ]
  },
  {
   "cell_type": "code",
   "execution_count": 12,
   "metadata": {},
   "outputs": [
    {
     "name": "stdout",
     "output_type": "stream",
     "text": [
      "Answer 10\n",
      "[[0 0 1 0 1 0 1]\n",
      " [1 1 0 1 0 1 0]\n",
      " [0 0 1 0 1 0 1]\n",
      " [1 1 0 1 0 1 0]\n",
      " [0 0 1 0 1 0 1]\n",
      " [1 1 0 1 0 1 0]\n",
      " [0 0 1 0 1 0 1]\n",
      " [1 1 0 1 0 1 0]]\n"
     ]
    }
   ],
   "source": [
    "a_8_8_deleted_col_2 = np.delete(a_8_8, 1, axis=1)   # np.delete's argument, first is the array, second is the column index(if axis=1, then it is column index, but if axis=0 then it is row index, and the third argument is the axis, 0 for rows, 1 for columns )\n",
    "\n",
    "print(\"Answer 10\")\n",
    "\n",
    "print(a_8_8_deleted_col_2)"
   ]
  },
  {
   "cell_type": "code",
   "execution_count": 13,
   "metadata": {},
   "outputs": [
    {
     "name": "stdout",
     "output_type": "stream",
     "text": [
      "Answer 10\n",
      "[[0 1 0 1 0 1 0 1]\n",
      " [0 1 0 1 0 1 0 1]\n",
      " [1 0 1 0 1 0 1 0]\n",
      " [0 1 0 1 0 1 0 1]\n",
      " [1 0 1 0 1 0 1 0]\n",
      " [0 1 0 1 0 1 0 1]\n",
      " [1 0 1 0 1 0 1 0]]\n"
     ]
    }
   ],
   "source": [
    "a_8_8_deleted_row_2 = np.delete(a_8_8, 1, axis=0)   # np.delete's argument, first is the array, second is the column index(if axis=1, then it is column index, but if axis=0 then it is row index, and the third argument is the axis, 0 for rows, 1 for columns )\n",
    "\n",
    "print(\"Answer 10\")\n",
    "\n",
    "print(a_8_8_deleted_row_2)"
   ]
  },
  {
   "cell_type": "code",
   "execution_count": 14,
   "metadata": {},
   "outputs": [
    {
     "name": "stdout",
     "output_type": "stream",
     "text": [
      "[[ 80842 333008 202553 140037  81969]\n",
      " [ 63857  42105 261540 481981 176739]\n",
      " [489984 326386 110795 394863  25024]\n",
      " [ 38317  49982 408830 485118  16119]\n",
      " [407675 231729 265455 109413 103399]\n",
      " [174677 343356 301717 224120 401101]\n",
      " [140473 254634 112262  25063 108262]\n",
      " [375059 406983 208947 115641 296685]\n",
      " [444899 129585 171318 313094 425041]\n",
      " [188411 335140 141681  59641 211420]\n",
      " [287650   8973 477425 382803 465168]\n",
      " [  3975  32213 160603 275485 388234]\n",
      " [246225  56174 244097   9350 496966]\n",
      " [225516 273338  73335 283013 212813]\n",
      " [ 38175 282399 318413 337639 379802]\n",
      " [198049 101115 419547 260219 325793]\n",
      " [148593 425024 348570 117968 107007]\n",
      " [ 52547 180346 178760 305186 262153]\n",
      " [ 11835 449971 494184 472031 353049]\n",
      " [476442  35455 191553 384154  29917]]\n"
     ]
    }
   ],
   "source": [
    "# Q11.  Produce the following array:\n",
    "np.random.seed(21)\n",
    "data = np.random.randint(1,high=500000, size=(20, 5))\n",
    "print(data)\n",
    "\n",
    "# What is the average value of the second column?\n",
    "# What is the average value of the first 5 rows of the third and fourth columns?\n"
   ]
  },
  {
   "cell_type": "code",
   "execution_count": 15,
   "metadata": {},
   "outputs": [
    {
     "name": "stdout",
     "output_type": "stream",
     "text": [
      "Average value of the second column 214895.8\n",
      "Average value of the first 5 rows of the third and fourth columns 201466.2\n"
     ]
    }
   ],
   "source": [
    "np.random.seed(21) \n",
    "data = np.random.randint(1,high=500000, size=(20, 5))\n",
    "# Average of 2nd column(use np.mean and numpy array indexing,array[:,1] takes all rows in 2nd column(in python index starts with 0,second column would be 1))\n",
    "print(\"Average value of the second column\",np.mean(data[:,1]))\n",
    "# Average value of the first 5 rows of the third and fourth columns(use np.mean and numpy array indexing,array[:5,3:5] takes the first 5 words and  3:5,takses 3rd to 4th column vales)\n",
    "print(\"Average value of the first 5 rows of the third and fourth columns\",np.mean(data[:5,3:5]))"
   ]
  },
  {
   "cell_type": "code",
   "execution_count": null,
   "metadata": {},
   "outputs": [],
   "source": []
  }
 ],
 "metadata": {
  "kernelspec": {
   "display_name": "Python 3",
   "language": "python",
   "name": "python3"
  },
  "language_info": {
   "codemirror_mode": {
    "name": "ipython",
    "version": 3
   },
   "file_extension": ".py",
   "mimetype": "text/x-python",
   "name": "python",
   "nbconvert_exporter": "python",
   "pygments_lexer": "ipython3",
   "version": "3.8.5"
  }
 },
 "nbformat": 4,
 "nbformat_minor": 4
}
